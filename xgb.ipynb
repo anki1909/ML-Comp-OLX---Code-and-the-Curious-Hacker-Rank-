{
 "cells": [
  {
   "cell_type": "code",
   "execution_count": 538,
   "metadata": {},
   "outputs": [
    {
     "name": "stdout",
     "output_type": "stream",
     "text": [
      "[Errno 2] No such file or directory: 'olx-ads-recommendation-dataset/'\n",
      "/Users/ankitgupta/Desktop/olx/olx-ads-recommendation-dataset\n"
     ]
    }
   ],
   "source": [
    "cd olx-ads-recommendation-dataset/"
   ]
  },
  {
   "cell_type": "code",
   "execution_count": 539,
   "metadata": {
    "collapsed": true
   },
   "outputs": [],
   "source": [
    "import pandas as pd\n",
    "import numpy as np\n",
    "\n",
    "import ast"
   ]
  },
  {
   "cell_type": "code",
   "execution_count": 540,
   "metadata": {},
   "outputs": [],
   "source": [
    "test = pd.read_csv('user_messages_test.csv')\n",
    "train = pd.read_csv('user_messages.csv')\n",
    "ads = pd.read_csv('ads_data.csv')\n",
    "user= pd.read_csv('user_data.csv')"
   ]
  },
  {
   "cell_type": "code",
   "execution_count": 541,
   "metadata": {},
   "outputs": [
    {
     "data": {
      "text/plain": [
       "Index([u'event_time', u'user_id', u'event', u'channel', u'user_lat',\n",
       "       u'user_long', u'origin', u'ad_id', u'images_count', u'ad_impressions',\n",
       "       u'ad_views', u'ad_messages'],\n",
       "      dtype='object')"
      ]
     },
     "execution_count": 541,
     "metadata": {},
     "output_type": "execute_result"
    }
   ],
   "source": [
    "user.columns"
   ]
  },
  {
   "cell_type": "code",
   "execution_count": 542,
   "metadata": {
    "collapsed": true
   },
   "outputs": [],
   "source": [
    "user_count =user.user_id.value_counts().reset_index()\n",
    "user_count.columns = ['user_id','user_count']"
   ]
  },
  {
   "cell_type": "code",
   "execution_count": 543,
   "metadata": {
    "collapsed": true
   },
   "outputs": [],
   "source": [
    "user_ad_count = user[['user_id','ad_id','origin']].groupby(['user_id','ad_id']).agg('count').reset_index()\n",
    "user_ad_count.columns = ['user_id','ad_id','usr_ad_count']"
   ]
  },
  {
   "cell_type": "code",
   "execution_count": 544,
   "metadata": {
    "collapsed": true
   },
   "outputs": [],
   "source": [
    "user_ad_unique = user[['user_id','ad_id']].groupby(['user_id']).ad_id.apply(lambda x: len(x.unique())).reset_index()\n",
    "user_ad_unique.columns = ['user_id','usr_ad_unique_count']"
   ]
  },
  {
   "cell_type": "code",
   "execution_count": 545,
   "metadata": {},
   "outputs": [
    {
     "data": {
      "text/plain": [
       "\"\\nk = user_ad_unique.merge(user_ad_count,on='user_id',how ='left')\\nk = k.merge(user_count,on='user_id',how ='left')\\nk\\n\""
      ]
     },
     "execution_count": 545,
     "metadata": {},
     "output_type": "execute_result"
    }
   ],
   "source": [
    "\"\"\"\n",
    "k = user_ad_unique.merge(user_ad_count,on='user_id',how ='left')\n",
    "k = k.merge(user_count,on='user_id',how ='left')\n",
    "k\n",
    "\"\"\""
   ]
  },
  {
   "cell_type": "code",
   "execution_count": 546,
   "metadata": {
    "collapsed": true
   },
   "outputs": [],
   "source": [
    "from collections import  defaultdict\n",
    "dt = defaultdict(int)\n",
    "count = defaultdict(int)\n",
    "def f1(x):\n",
    "    lst = ast.literal_eval(x)\n",
    "    l = len(lst)\n",
    "    \n",
    "    for enu,i in enumerate(lst):\n",
    "        dt[i] = dt[i]+ l*1.0/(enu+1)\n",
    "        count[i] += 1\n",
    "cool =train['ads'].apply(f1)"
   ]
  },
  {
   "cell_type": "code",
   "execution_count": 547,
   "metadata": {
    "collapsed": true
   },
   "outputs": [],
   "source": [
    "ads_score = pd.DataFrame({'ad_id':dt.keys(),'score':dt.values()})\n",
    "ads_count = pd.DataFrame({'ad_id':count.keys(),'cou':count.values()})"
   ]
  },
  {
   "cell_type": "code",
   "execution_count": null,
   "metadata": {
    "collapsed": true
   },
   "outputs": [],
   "source": []
  },
  {
   "cell_type": "code",
   "execution_count": 548,
   "metadata": {
    "collapsed": true
   },
   "outputs": [],
   "source": [
    "ads_user = user[['ad_id']].merge(ads[['ad_id','category_id']],how = 'left',on= 'ad_id')"
   ]
  },
  {
   "cell_type": "code",
   "execution_count": 549,
   "metadata": {
    "collapsed": true
   },
   "outputs": [],
   "source": [
    "ads_count_in_user = ads_user.groupby('ad_id').agg('count').reset_index()\n",
    "ads_count_in_user.columns = ['ad_id','ad_count']\n",
    "ads_user = ads_user.merge(ads_count_in_user,how = 'left',on = 'ad_id')\n",
    "ads_user  = ads_user.sort_values(['category_id','ad_count'],ascending=False)\n",
    "ads_user = ads_user.drop_duplicates()\n",
    "top_10_add = ads_user.groupby('category_id')['ad_id'].apply(lambda x: x.tolist()[0:10]).reset_index()\n",
    "#top_10_add = top_10_add.set_index('category_id')['ad_id'].to_dict()#"
   ]
  },
  {
   "cell_type": "code",
   "execution_count": null,
   "metadata": {
    "collapsed": true
   },
   "outputs": [],
   "source": []
  },
  {
   "cell_type": "code",
   "execution_count": 550,
   "metadata": {
    "collapsed": true
   },
   "outputs": [],
   "source": [
    "user_ads_30 = user.groupby(['user_id'])['ad_id'].apply(lambda x: np.unique(x.tolist())).reset_index()"
   ]
  },
  {
   "cell_type": "code",
   "execution_count": 551,
   "metadata": {
    "collapsed": true
   },
   "outputs": [],
   "source": [
    "user = user.merge(ads[['ad_id','category_id']],how = 'left',on= 'ad_id')"
   ]
  },
  {
   "cell_type": "code",
   "execution_count": 552,
   "metadata": {},
   "outputs": [
    {
     "data": {
      "text/plain": [
       "Index([u'event_time', u'user_id', u'event', u'channel', u'user_lat',\n",
       "       u'user_long', u'origin', u'ad_id', u'images_count', u'ad_impressions',\n",
       "       u'ad_views', u'ad_messages', u'category_id'],\n",
       "      dtype='object')"
      ]
     },
     "execution_count": 552,
     "metadata": {},
     "output_type": "execute_result"
    }
   ],
   "source": [
    "user.columns"
   ]
  },
  {
   "cell_type": "code",
   "execution_count": 553,
   "metadata": {
    "collapsed": true
   },
   "outputs": [],
   "source": [
    "user_ads_30_cat = user.groupby(['user_id','category_id'])['ad_id'].apply(lambda x: np.unique(x.tolist())).reset_index()"
   ]
  },
  {
   "cell_type": "code",
   "execution_count": 554,
   "metadata": {
    "collapsed": true
   },
   "outputs": [],
   "source": [
    "k = []\n",
    "us = []\n",
    "ca = []\n",
    "for enu in range(0,user_ads_30_cat.shape[0]):\n",
    "    i = user_ads_30_cat.ad_id.values[enu]\n",
    "    user = user_ads_30_cat.user_id[enu]\n",
    "    cat  = user_ads_30_cat.category_id[enu]\n",
    "    #a = ast.literal_eval(i)\n",
    "    for j in i:\n",
    "        us.append(user)\n",
    "        ca.append(cat)\n",
    "        k.append(j)"
   ]
  },
  {
   "cell_type": "code",
   "execution_count": 555,
   "metadata": {
    "collapsed": true
   },
   "outputs": [],
   "source": [
    "train_all = pd.DataFrame({'user_id':us,'category_id':ca,'ad_id':k})\n",
    "train_all = train_all.drop_duplicates()\n",
    "train_all['target'] = 0"
   ]
  },
  {
   "cell_type": "code",
   "execution_count": 556,
   "metadata": {
    "collapsed": true
   },
   "outputs": [],
   "source": [
    "import ast\n",
    "k = []\n",
    "us = []\n",
    "ca = []\n",
    "for enu in range(0,train.shape[0]):\n",
    "    i = train.ads.values[enu]\n",
    "    user = train.user_id[enu]\n",
    "    cat  = train.category_id[enu]\n",
    "    a = ast.literal_eval(i)\n",
    "    for j in a:\n",
    "        us.append(user)\n",
    "        ca.append(cat)\n",
    "        k.append(j)"
   ]
  },
  {
   "cell_type": "code",
   "execution_count": 557,
   "metadata": {
    "collapsed": true
   },
   "outputs": [],
   "source": [
    "train_1 = pd.DataFrame({'user_id':us,'category_id':ca,'ad_id':k})\n",
    "train_1 = train_1.drop_duplicates()\n",
    "train_1['target'] = 1"
   ]
  },
  {
   "cell_type": "code",
   "execution_count": 558,
   "metadata": {
    "collapsed": true
   },
   "outputs": [],
   "source": [
    "train_final = train_1.merge(train_all,on = [ 'user_id','category_id','ad_id'],how = 'outer')"
   ]
  },
  {
   "cell_type": "code",
   "execution_count": 559,
   "metadata": {},
   "outputs": [
    {
     "data": {
      "text/plain": [
       "array([  1.,  nan])"
      ]
     },
     "execution_count": 559,
     "metadata": {},
     "output_type": "execute_result"
    }
   ],
   "source": [
    "train_final.target_x.unique()"
   ]
  },
  {
   "cell_type": "code",
   "execution_count": 560,
   "metadata": {
    "collapsed": true
   },
   "outputs": [],
   "source": [
    "train_final.loc[train_final.target_x ==1,'taget'] = 1\n",
    "train_final.loc[pd.isnull(train_final.target_x) & (train_final.target_y == 0),'taget'] = 0"
   ]
  },
  {
   "cell_type": "code",
   "execution_count": 561,
   "metadata": {
    "collapsed": true
   },
   "outputs": [],
   "source": [
    "test_final= test.merge(train_all, on = ['user_id','category_id'], how = 'left')"
   ]
  },
  {
   "cell_type": "code",
   "execution_count": null,
   "metadata": {
    "collapsed": true
   },
   "outputs": [],
   "source": []
  },
  {
   "cell_type": "code",
   "execution_count": 562,
   "metadata": {
    "collapsed": true
   },
   "outputs": [],
   "source": [
    "test_final  = test_final.drop('target',axis =1)"
   ]
  },
  {
   "cell_type": "code",
   "execution_count": 563,
   "metadata": {
    "collapsed": true
   },
   "outputs": [],
   "source": [
    "test_final.replace(np.nan,-1,inplace= True)"
   ]
  },
  {
   "cell_type": "code",
   "execution_count": 564,
   "metadata": {
    "collapsed": true
   },
   "outputs": [],
   "source": [
    "test_no_infor = test_final.loc[test_final.ad_id == -1,['user_id','category_id']]\n"
   ]
  },
  {
   "cell_type": "code",
   "execution_count": 565,
   "metadata": {
    "collapsed": true
   },
   "outputs": [],
   "source": [
    "test_no_infor = test_no_infor.merge(top_10_add,on = 'category_id',how = 'left')"
   ]
  },
  {
   "cell_type": "code",
   "execution_count": 566,
   "metadata": {
    "collapsed": true
   },
   "outputs": [],
   "source": [
    "\n",
    "import ast\n",
    "k = []\n",
    "us = []\n",
    "ca = []\n",
    "for enu in range(0,test_no_infor.shape[0]):\n",
    "    i = test_no_infor.ad_id.values[enu]\n",
    "    user = test_no_infor.user_id[enu]\n",
    "    cat  = test_no_infor.category_id[enu]\n",
    "    #a = ast.literal_eval(i)\n",
    "    for j in i:\n",
    "        us.append(user)\n",
    "        ca.append(cat)\n",
    "        k.append(j)"
   ]
  },
  {
   "cell_type": "code",
   "execution_count": 567,
   "metadata": {
    "collapsed": true
   },
   "outputs": [],
   "source": [
    "test_no_infor = pd.DataFrame({'user_id':us,'category_id':ca,'ad_id':k})\n",
    "test_no_infor = test_no_infor.drop_duplicates()\n"
   ]
  },
  {
   "cell_type": "code",
   "execution_count": null,
   "metadata": {
    "collapsed": true
   },
   "outputs": [],
   "source": []
  },
  {
   "cell_type": "code",
   "execution_count": 568,
   "metadata": {
    "collapsed": true
   },
   "outputs": [],
   "source": [
    "#test_final = test_final.loc[test_final.ad_id != -1,['user_id','category_id','ad_id']]\n"
   ]
  },
  {
   "cell_type": "code",
   "execution_count": 569,
   "metadata": {},
   "outputs": [
    {
     "data": {
      "text/plain": [
       "Index([u'user_id', u'category_id', u'ad_id'], dtype='object')"
      ]
     },
     "execution_count": 569,
     "metadata": {},
     "output_type": "execute_result"
    }
   ],
   "source": [
    "test_final.columns"
   ]
  },
  {
   "cell_type": "code",
   "execution_count": 570,
   "metadata": {
    "collapsed": true
   },
   "outputs": [],
   "source": [
    "test_final = pd.concat((test_final[['ad_id','category_id','user_id']],test_no_infor[['ad_id','category_id','user_id']]))\n",
    "test_final = test_final.loc[test_final.ad_id != -1]\n",
    "test_final = test_final.drop_duplicates()\n"
   ]
  },
  {
   "cell_type": "code",
   "execution_count": null,
   "metadata": {
    "collapsed": true
   },
   "outputs": [],
   "source": []
  },
  {
   "cell_type": "code",
   "execution_count": 571,
   "metadata": {
    "collapsed": true
   },
   "outputs": [],
   "source": [
    "few = test_final.groupby(['user_id','category_id']).agg('count').reset_index()\n",
    "few.columns = ['user_id','category_id','usr_cat_count']\n",
    "test_final = test_final.merge(few, on = ['user_id','category_id'], how ='left')"
   ]
  },
  {
   "cell_type": "markdown",
   "metadata": {},
   "source": [
    "# cool "
   ]
  },
  {
   "cell_type": "code",
   "execution_count": 572,
   "metadata": {
    "collapsed": true
   },
   "outputs": [],
   "source": [
    "test_no_infor = test_final.loc[test_final.usr_cat_count<=40,['user_id','category_id']]"
   ]
  },
  {
   "cell_type": "code",
   "execution_count": 573,
   "metadata": {
    "collapsed": true
   },
   "outputs": [],
   "source": [
    "test_no_infor = test_no_infor.merge(top_10_add,on = 'category_id',how = 'left')"
   ]
  },
  {
   "cell_type": "code",
   "execution_count": 574,
   "metadata": {
    "collapsed": true
   },
   "outputs": [],
   "source": [
    "import ast\n",
    "k = []\n",
    "us = []\n",
    "ca = []\n",
    "for enu in range(0,test_no_infor.shape[0]):\n",
    "    i = test_no_infor.ad_id.values[enu]\n",
    "    user = test_no_infor.user_id[enu]\n",
    "    cat  = test_no_infor.category_id[enu]\n",
    "    #a = ast.literal_eval(i)\n",
    "    for j in i:\n",
    "        us.append(user)\n",
    "        ca.append(cat)\n",
    "        k.append(j)\n",
    "test_no_infor = pd.DataFrame({'user_id':us,'category_id':ca,'ad_id':k})\n",
    "test_no_infor = test_no_infor.drop_duplicates()\n"
   ]
  },
  {
   "cell_type": "code",
   "execution_count": 575,
   "metadata": {
    "collapsed": true
   },
   "outputs": [],
   "source": [
    "#test_final = pd.concat((test_final[['ad_id','category_id','user_id']],test_no_infor[['ad_id','category_id','user_id']]))\n",
    "#test_final = test_final.loc[test_final.ad_id != -1]\n",
    "\n",
    "\n",
    "test_no_infor = test_no_infor.merge(test_final,on=['user_id','category_id','ad_id'], how ='left')\n",
    "\n"
   ]
  },
  {
   "cell_type": "code",
   "execution_count": 576,
   "metadata": {
    "collapsed": true
   },
   "outputs": [],
   "source": [
    "test_no_infor = test_no_infor.loc[pd.isnull(test_no_infor.usr_cat_count),['user_id','category_id','ad_id']]"
   ]
  },
  {
   "cell_type": "code",
   "execution_count": 577,
   "metadata": {
    "collapsed": true
   },
   "outputs": [],
   "source": [
    "test_final = test_final[['user_id','category_id','ad_id']]"
   ]
  },
  {
   "cell_type": "code",
   "execution_count": 578,
   "metadata": {
    "collapsed": true
   },
   "outputs": [],
   "source": [
    "\n",
    "train_final = train_final.drop(['target_y','target_x'],axis=1)"
   ]
  },
  {
   "cell_type": "code",
   "execution_count": null,
   "metadata": {
    "collapsed": true
   },
   "outputs": [],
   "source": []
  },
  {
   "cell_type": "code",
   "execution_count": 579,
   "metadata": {
    "collapsed": true
   },
   "outputs": [],
   "source": [
    "ads = pd.read_csv('ads_data.csv')\n",
    "user= pd.read_csv('user_data.csv')"
   ]
  },
  {
   "cell_type": "code",
   "execution_count": 580,
   "metadata": {
    "collapsed": true
   },
   "outputs": [],
   "source": [
    "train_final = train_final.merge(user,on = ['user_id','ad_id'] ,how = 'left')\n",
    "test_final = test_final.merge(user,on = ['user_id','ad_id'] ,how = 'left')\n",
    "\n",
    "test_no_infor = test_no_infor.merge(user,on = ['user_id','ad_id'] ,how = 'left')\n",
    "\n"
   ]
  },
  {
   "cell_type": "code",
   "execution_count": 581,
   "metadata": {
    "collapsed": true
   },
   "outputs": [],
   "source": [
    "\n",
    "train_final['event_time'] = pd.to_datetime(train_final.event_time)\n",
    "test_final['event_time'] = pd.to_datetime(test_final.event_time)\n",
    "test_no_infor['event_time'] = pd.to_datetime(test_no_infor.event_time)\n",
    "\n",
    "train_final['year'] = train_final.event_time.dt.year\n",
    "train_final['month'] = train_final.event_time.dt.month\n",
    "train_final['dayofyear'] = train_final.event_time.dt.dayofyear\n",
    "train_final['dayofweek'] = train_final.event_time.dt.dayofweek\n",
    "train_final['day'] = train_final.event_time.dt.day\n",
    "test_final['year'] = test_final.event_time.dt.year\n",
    "test_final['month'] = test_final.event_time.dt.month\n",
    "test_final['dayofyear'] = test_final.event_time.dt.dayofyear\n",
    "test_final['dayofweek'] = test_final.event_time.dt.dayofweek\n",
    "test_final['day'] = test_final.event_time.dt.day\n",
    "\n",
    "test_no_infor['year'] = test_no_infor.event_time.dt.year\n",
    "test_no_infor['month'] = test_no_infor.event_time.dt.month\n",
    "test_no_infor['dayofyear'] = test_no_infor.event_time.dt.dayofyear\n",
    "test_no_infor['dayofweek'] = test_no_infor.event_time.dt.dayofweek\n",
    "test_no_infor['day'] = test_no_infor.event_time.dt.day\n",
    "\n",
    "\n",
    "\n"
   ]
  },
  {
   "cell_type": "code",
   "execution_count": 582,
   "metadata": {
    "collapsed": true
   },
   "outputs": [],
   "source": [
    "train_final = train_final.merge(ads,how='left',on=['ad_id', 'category_id'])\n",
    "test_final = test_final.merge(ads,how='left',on=['ad_id', 'category_id'])\n",
    "\n",
    "test_no_infor = test_no_infor.merge(ads,how='left',on=['ad_id', 'category_id'])\n",
    "\n"
   ]
  },
  {
   "cell_type": "markdown",
   "metadata": {},
   "source": [
    "# lets see"
   ]
  },
  {
   "cell_type": "code",
   "execution_count": 583,
   "metadata": {
    "collapsed": true
   },
   "outputs": [],
   "source": [
    "#train_final = train_final.merge(ads_score,how='left',on=['ad_id'])\n",
    "#test_final = test_final.merge(ads_score,how='left',on=['ad_id'])\n",
    "\n",
    "\n",
    "train_final = train_final.merge(user_count,how='left',on=['user_id'])\n",
    "test_final = test_final.merge(user_count,how='left',on=['user_id'])\n",
    "test_no_infor = test_no_infor.merge(user_count,how='left',on=['user_id'])\n",
    "\n",
    "train_final = train_final.merge(user_ad_count,how='left',on=['user_id','ad_id'])\n",
    "test_final = test_final.merge(user_ad_count,how='left',on=['user_id','ad_id'])\n",
    "test_no_infor = test_no_infor.merge(user_ad_count,how='left',on=['user_id','ad_id'])\n",
    "\n",
    "\n",
    "train_final = train_final.merge(user_ad_unique,how='left',on=['user_id'])\n",
    "test_final = test_final.merge(user_ad_unique,how='left',on=['user_id'])\n",
    "test_no_infor = test_no_infor.merge(user_ad_unique,how='left',on=['user_id'])\n",
    "\n"
   ]
  },
  {
   "cell_type": "code",
   "execution_count": 584,
   "metadata": {
    "collapsed": true
   },
   "outputs": [],
   "source": [
    "train_final = train_final.drop(['creation_time','lat', 'long','channel', u'user_lat', u'user_long','title', 'description'],axis =1)\n",
    "test_final = test_final.drop(['creation_time','lat', 'long','channel', u'user_lat', u'user_long','title', 'description'],axis =1)\n",
    "test_no_infor = test_no_infor.drop(['creation_time','lat', 'long','channel', u'user_lat', u'user_long','title', 'description'],axis =1)\n",
    "\n",
    "\n",
    "\n",
    "#train_final = train_final.drop(['title', 'description'],axis =1)\n",
    "#test_final = test_final.drop(['title', 'description'],axis =1)\n"
   ]
  },
  {
   "cell_type": "code",
   "execution_count": 585,
   "metadata": {
    "collapsed": true
   },
   "outputs": [],
   "source": [
    "test_final['enabled'].replace(np.nan,1,inplace = True)"
   ]
  },
  {
   "cell_type": "code",
   "execution_count": 586,
   "metadata": {
    "collapsed": true
   },
   "outputs": [],
   "source": [
    "from sklearn.preprocessing import  LabelEncoder\n",
    "text_columns = []\n",
    "for f in test_final.columns:\n",
    "    if train_final[f].dtype== 'object':\n",
    "        text_columns.append(f)            \n",
    "        lbl = LabelEncoder()\n",
    "        lbl.fit(list(train_final[f].values) + list(test_final[f].values)+ list(test_no_infor[f].values))\n",
    "        train_final[f] = lbl.transform(list(train_final[f].values))\n",
    "        test_final[f] = lbl.transform(list(test_final[f].values))\n",
    "        try:\n",
    "            test_no_infor[f] = lbl.transform(list(test_no_infor[f].values))\n",
    "        except:\n",
    "            continue\n",
    "        "
   ]
  },
  {
   "cell_type": "code",
   "execution_count": 587,
   "metadata": {
    "collapsed": true
   },
   "outputs": [],
   "source": [
    "target = train_final.taget.values\n",
    "test_f = test_final.copy()\n",
    "test_no_infor_c = test_no_infor.copy()\n",
    "\n",
    "train_final = train_final.drop(['taget','event_time','user_id', 'category_id', 'ad_id'],axis =1)\n",
    "test_final = test_final.drop(['event_time','user_id', 'category_id', 'ad_id'],axis =1)\n",
    "\n",
    "\n",
    "test_no_infor = test_no_infor.drop(['event_time','user_id', 'category_id', 'ad_id'],axis =1)\n"
   ]
  },
  {
   "cell_type": "code",
   "execution_count": 588,
   "metadata": {},
   "outputs": [
    {
     "data": {
      "text/plain": [
       "Index([u'event', u'origin', u'images_count', u'ad_impressions', u'ad_views',\n",
       "       u'ad_messages', u'year', u'month', u'dayofyear', u'dayofweek', u'day',\n",
       "       u'seller_id', u'price', u'source', u'enabled', u'user_count',\n",
       "       u'usr_ad_count', u'usr_ad_unique_count'],\n",
       "      dtype='object')"
      ]
     },
     "execution_count": 588,
     "metadata": {},
     "output_type": "execute_result"
    }
   ],
   "source": [
    "train_final.columns"
   ]
  },
  {
   "cell_type": "code",
   "execution_count": 589,
   "metadata": {},
   "outputs": [
    {
     "data": {
      "text/plain": [
       "'\\nfrom sklearn.ensemble import RandomForestClassifier\\nmodel = RandomForestClassifier(n_estimators=100, max_depth=12)\\ntrain_final.replace(np.nan,-1,inplace=True)\\ntest_final.replace(np.nan,-1,inplace=True)\\nmodel.fit(train_final,target)\\n'"
      ]
     },
     "execution_count": 589,
     "metadata": {},
     "output_type": "execute_result"
    }
   ],
   "source": [
    "\"\"\"\n",
    "from sklearn.ensemble import RandomForestClassifier\n",
    "model = RandomForestClassifier(n_estimators=100, max_depth=12)\n",
    "train_final.replace(np.nan,-1,inplace=True)\n",
    "test_final.replace(np.nan,-1,inplace=True)\n",
    "model.fit(train_final,target)\n",
    "\"\"\""
   ]
  },
  {
   "cell_type": "code",
   "execution_count": 590,
   "metadata": {
    "collapsed": true
   },
   "outputs": [],
   "source": [
    "train_final.replace(np.nan,-1,inplace=True)\n",
    "test_final.replace(np.nan,-1,inplace=True)\n",
    "test_no_infor.replace(np.nan,-1,inplace = True)\n"
   ]
  },
  {
   "cell_type": "code",
   "execution_count": 591,
   "metadata": {
    "collapsed": true
   },
   "outputs": [],
   "source": [
    "import xgboost as xgb\n",
    "from sklearn.metrics import  roc_auc_score\n",
    "def runXGB(train_X, train_y, test_X, test_y=None, feature_names=None, seed_val=0):\n",
    "        params = {}\n",
    "        params[\"objective\"] = \"binary:logistic\"\n",
    "        params['eval_metric'] = 'auc'\n",
    "        params[\"eta\"] = 0.01 #0.00334\n",
    "        params[\"min_child_weight\"] = 1\n",
    "        params[\"subsample\"] = 0.8\n",
    "        params[\"colsample_bytree\"] = 0.3\n",
    "        params[\"silent\"] = 1\n",
    "        params[\"max_depth\"] = 6\n",
    "        params[\"seed\"] = seed_val\n",
    "        #params[\"max_delta_step\"] = 2\n",
    "        #params[\"gamma\"] = 0.5\n",
    "        num_rounds = 1500 #2500\n",
    "\n",
    "        plst = list(params.items())\n",
    "        xgtrain = xgb.DMatrix(train_X, label=train_y)\n",
    "\n",
    "        if test_y is not None:\n",
    "                xgtest = xgb.DMatrix(test_X, label=test_y)\n",
    "                watchlist = [ (xgtrain,'train'), (xgtest, 'test') ]\n",
    "                model = xgb.train(plst, xgtrain, num_rounds, watchlist, early_stopping_rounds= 500)\n",
    "        else:\n",
    "                xgtest = xgb.DMatrix(test_X)\n",
    "                #xgtest1 = xgb.DMatrix(test_X1)\n",
    "                model = xgb.train(plst, xgtrain, num_rounds)\n",
    "\n",
    "        if feature_names:\n",
    "                        create_feature_map(feature_names)\n",
    "                        model.dump_model('xgbmodel.txt', 'xgb.fmap', with_stats=True)\n",
    "                        importance = model.get_fscore(fmap='xgb.fmap')\n",
    "                        importance = sorted(importance.items(), key=operator.itemgetter(1), reverse=True)\n",
    "                        imp_df = pd.DataFrame(importance, columns=['feature','fscore'])\n",
    "                        imp_df['fscore'] = imp_df['fscore'] / imp_df['fscore'].sum()\n",
    "                        imp_df.to_csv(\"imp_feat.txt\", index=False)\n",
    "\n",
    "        pred_test_y = model.predict(xgtest)\n",
    "        \n",
    "        if test_y is not None:\n",
    "                loss = roc_auc_score(test_y, pred_test_y)\n",
    "                print loss\n",
    "        \treturn pred_test_y, loss\n",
    "\telse:\n",
    "\t\treturn pred_test_y"
   ]
  },
  {
   "cell_type": "code",
   "execution_count": 592,
   "metadata": {},
   "outputs": [],
   "source": [
    "from sklearn.model_selection import train_test_split\n",
    "X = np.array(train_final)\n",
    "\n",
    "\n",
    "X_train, X_test, y_train, y_test = train_test_split(X, target, test_size=0.3, random_state=42)\n",
    "\n",
    "#xgb_test = np.array(test_final)\n"
   ]
  },
  {
   "cell_type": "code",
   "execution_count": null,
   "metadata": {},
   "outputs": [],
   "source": []
  },
  {
   "cell_type": "code",
   "execution_count": 593,
   "metadata": {},
   "outputs": [],
   "source": [
    "\n",
    "total = pd.concat((test_final,test_no_infor))\n",
    "\n",
    "total = np.array(total)\n",
    "\n",
    "k = runXGB(X, target, total)\n",
    " \n",
    "test_f['prob'] = k[0:test_final.shape[0]]\n",
    "test_no_infor_c['prob'] = k[test_final.shape[0]:]"
   ]
  },
  {
   "cell_type": "code",
   "execution_count": 594,
   "metadata": {},
   "outputs": [],
   "source": [
    "test_f.loc[test_f.enabled ==0,'prob'] =0\n",
    "test_no_infor.loc[test_no_infor.enabled ==0,'prob'] =0"
   ]
  },
  {
   "cell_type": "code",
   "execution_count": 595,
   "metadata": {},
   "outputs": [],
   "source": [
    "test_f = test_f[['user_id','category_id','ad_id','prob']].drop_duplicates()\n",
    "test_no_infor_c = test_no_infor_c[['user_id','category_id','ad_id','prob']].drop_duplicates()"
   ]
  },
  {
   "cell_type": "code",
   "execution_count": 596,
   "metadata": {
    "collapsed": true
   },
   "outputs": [],
   "source": [
    "last = test_f.groupby(['category_id','user_id'])['ad_id'].apply(lambda x: x.tolist()).reset_index()\n",
    "last1 = test_f.groupby(['category_id','user_id'])['prob'].apply(lambda x: x.tolist()).reset_index()"
   ]
  },
  {
   "cell_type": "code",
   "execution_count": 597,
   "metadata": {},
   "outputs": [],
   "source": [
    "last['prob'] = last1['prob'] "
   ]
  },
  {
   "cell_type": "code",
   "execution_count": 598,
   "metadata": {},
   "outputs": [],
   "source": [
    "def fun1(x):\n",
    "    cool = [2816336]\n",
    "    val = []\n",
    "    prob =  x[1]\n",
    "    ad_id = x[0]\n",
    "    cat = x[2]\n",
    "    a = np.argsort(prob)[-10:][::-1]\n",
    "        \n",
    "    for i in a:\n",
    "        #print prob[i]\n",
    "        #if prob[i] >.005:\n",
    "        val.append(int(ad_id[i]))\n",
    "    return val\n",
    "    \n",
    "last['ads'] = last[['ad_id','prob','category_id']].apply(fun1,axis =1)"
   ]
  },
  {
   "cell_type": "markdown",
   "metadata": {},
   "source": [
    "# for less recommended ad_id"
   ]
  },
  {
   "cell_type": "code",
   "execution_count": 599,
   "metadata": {},
   "outputs": [
    {
     "data": {
      "text/plain": [
       "Index([u'user_id', u'category_id', u'ad_id', u'prob'], dtype='object')"
      ]
     },
     "execution_count": 599,
     "metadata": {},
     "output_type": "execute_result"
    }
   ],
   "source": [
    "test_no_infor_c.columns"
   ]
  },
  {
   "cell_type": "code",
   "execution_count": 600,
   "metadata": {
    "collapsed": true
   },
   "outputs": [],
   "source": [
    "last[['user_id','category_id','ads']].to_csv('same.csv',index = False)"
   ]
  },
  {
   "cell_type": "code",
   "execution_count": 601,
   "metadata": {
    "collapsed": true
   },
   "outputs": [],
   "source": [
    "last_less = test_no_infor_c.groupby(['category_id','user_id'])['ad_id'].apply(lambda x: x.tolist()).reset_index()\n",
    "last1_less = test_no_infor_c.groupby(['category_id','user_id'])['prob'].apply(lambda x: x.tolist()).reset_index()\n",
    "last_less['prob'] = last1_less['prob']\n",
    "last_less['ads'] = last_less[['ad_id','prob','category_id']].apply(fun1,axis =1)"
   ]
  },
  {
   "cell_type": "code",
   "execution_count": 602,
   "metadata": {
    "collapsed": true
   },
   "outputs": [],
   "source": [
    "last = last[['category_id','user_id','ads']].merge(last_less[['category_id','user_id','ads']], on=['category_id','user_id'] , how ='left')"
   ]
  },
  {
   "cell_type": "code",
   "execution_count": 603,
   "metadata": {
    "collapsed": true
   },
   "outputs": [],
   "source": [
    "dt = ads.set_index('ad_id')['enabled'].to_dict()"
   ]
  },
  {
   "cell_type": "code",
   "execution_count": 604,
   "metadata": {
    "collapsed": true
   },
   "outputs": [],
   "source": [
    "def f1(x):\n",
    "    x0 = x[0]\n",
    "    x1 = x[1]\n",
    "    if len(x[0])<10:\n",
    "        for i in range(0,(10-len(x[0]))):\n",
    "            #print len(x[0]),i,x1[i]\n",
    "            x0.append(x1[i])\n",
    "    return x0\n",
    "                \n",
    "last['ads'] = last[['ads_x', 'ads_y']].apply(f1,axis =1)\n",
    "last[['user_id','category_id','ads']].to_csv('same.csv',index = False)\n",
    "\n",
    "\n",
    "\n"
   ]
  },
  {
   "cell_type": "code",
   "execution_count": 605,
   "metadata": {
    "collapsed": true
   },
   "outputs": [],
   "source": [
    "def f1(x):\n",
    "    x0 = x[0]\n",
    "    x1 = x[1]\n",
    "    total = []   \n",
    "    \n",
    "    for i in x0:\n",
    "        #print i,dt[i]\n",
    "        if dt[i]==1:\n",
    "            total.append(i)\n",
    "    l = len(total)  \n",
    "    #print len(x0),'\\n',total\n",
    "    if l ==10:\n",
    "        return total\n",
    "    #print x1,'1'\n",
    "    if x1:\n",
    "        return total\n",
    "    while (True):\n",
    "        #print x1[i],i\n",
    "        if len(total) ==10:\n",
    "            break\n",
    "        if dt[x1[i]] ==1:\n",
    "            total.append(x1[i])\n",
    "    return total    \n"
   ]
  },
  {
   "cell_type": "code",
   "execution_count": 606,
   "metadata": {
    "collapsed": true
   },
   "outputs": [],
   "source": [
    "last['ads'] = last[['ads_x', 'ads_y']].apply(f1,axis =1)\n",
    "last[['user_id','category_id','ads']].to_csv('same.csv',index = False)\n",
    "\n"
   ]
  },
  {
   "cell_type": "code",
   "execution_count": 607,
   "metadata": {
    "collapsed": true
   },
   "outputs": [],
   "source": [
    "\n",
    "top_10_add = ads_user.groupby('category_id')['ad_id'].apply(lambda x: x.tolist()[0:100]).reset_index()\n",
    "\n",
    "top_10_add = top_10_add.set_index('category_id')['ad_id'].to_dict()"
   ]
  },
  {
   "cell_type": "code",
   "execution_count": 608,
   "metadata": {
    "collapsed": true
   },
   "outputs": [],
   "source": [
    "def f1(x):\n",
    "    \n",
    "    x0 = x[0]\n",
    "    x1 = x[1]\n",
    "    k = len(x1)\n",
    "    if len(x1)<10:\n",
    "        #print 'asas'\n",
    "        for i in top_10_add[x0]:\n",
    "            #print 'lll',top_10_add[x0]\n",
    "            if (i not in x1) & (dt[i]==1):\n",
    "                x1.append(i)\n",
    "                if len(x1) ==10:\n",
    "                    break\n",
    "    #print k,len(x1)\n",
    "    \n",
    "    return x1[:10]\n",
    "\n",
    "last['ads'] = last[['category_id','ads']].apply(f1,axis =1)\n"
   ]
  },
  {
   "cell_type": "code",
   "execution_count": 609,
   "metadata": {},
   "outputs": [],
   "source": [
    "last[['user_id','category_id','ads']].to_csv('same1.csv',index = False)\n"
   ]
  },
  {
   "cell_type": "code",
   "execution_count": 610,
   "metadata": {},
   "outputs": [
    {
     "data": {
      "text/html": [
       "<div>\n",
       "<style>\n",
       "    .dataframe thead tr:only-child th {\n",
       "        text-align: right;\n",
       "    }\n",
       "\n",
       "    .dataframe thead th {\n",
       "        text-align: left;\n",
       "    }\n",
       "\n",
       "    .dataframe tbody tr th {\n",
       "        vertical-align: top;\n",
       "    }\n",
       "</style>\n",
       "<table border=\"1\" class=\"dataframe\">\n",
       "  <thead>\n",
       "    <tr style=\"text-align: right;\">\n",
       "      <th></th>\n",
       "      <th>category_id</th>\n",
       "      <th>user_id</th>\n",
       "      <th>ads_x</th>\n",
       "      <th>ads_y</th>\n",
       "      <th>ads</th>\n",
       "    </tr>\n",
       "  </thead>\n",
       "  <tbody>\n",
       "    <tr>\n",
       "      <th>0</th>\n",
       "      <td>362</td>\n",
       "      <td>32</td>\n",
       "      <td>[2155129, 1151273, 1917466, 430569, 2451503, 1...</td>\n",
       "      <td>NaN</td>\n",
       "      <td>[2155129, 1151273, 1917466, 430569, 2451503, 1...</td>\n",
       "    </tr>\n",
       "    <tr>\n",
       "      <th>1</th>\n",
       "      <td>362</td>\n",
       "      <td>42</td>\n",
       "      <td>[2684942, 1642256, 2230578, 2023961, 2680584, ...</td>\n",
       "      <td>NaN</td>\n",
       "      <td>[2684942, 1642256, 2230578, 2023961, 2680584, ...</td>\n",
       "    </tr>\n",
       "    <tr>\n",
       "      <th>2</th>\n",
       "      <td>362</td>\n",
       "      <td>66</td>\n",
       "      <td>[1635665, 1635665, 2833390, 2833390, 2833390, ...</td>\n",
       "      <td>[2853312, 1704736, 2598159, 2836886, 2560201, ...</td>\n",
       "      <td>[1635665, 1635665, 2833390, 2833390, 2833390, ...</td>\n",
       "    </tr>\n",
       "    <tr>\n",
       "      <th>3</th>\n",
       "      <td>362</td>\n",
       "      <td>182</td>\n",
       "      <td>[2297932, 1524344, 219720, 2836886, 2560201, 1...</td>\n",
       "      <td>[2836886, 2560201, 1704736, 2757104, 2806018, ...</td>\n",
       "      <td>[2297932, 1524344, 2836886, 2560201, 1704736, ...</td>\n",
       "    </tr>\n",
       "    <tr>\n",
       "      <th>4</th>\n",
       "      <td>362</td>\n",
       "      <td>191</td>\n",
       "      <td>[1937355, 1704736, 2806363, 2377472, 5073, 384...</td>\n",
       "      <td>[2853312, 2836886, 2598159, 2560201, 2806018, ...</td>\n",
       "      <td>[1937355, 1704736, 2806363, 2377472, 5073, 384...</td>\n",
       "    </tr>\n",
       "    <tr>\n",
       "      <th>5</th>\n",
       "      <td>362</td>\n",
       "      <td>196</td>\n",
       "      <td>[2441605, 1101916, 2617331, 1509216, 563696, 3...</td>\n",
       "      <td>[2853312, 1704736, 2598159, 2836886, 2560201, ...</td>\n",
       "      <td>[2441605, 1101916, 2617331, 1509216, 563696, 2...</td>\n",
       "    </tr>\n",
       "    <tr>\n",
       "      <th>6</th>\n",
       "      <td>362</td>\n",
       "      <td>205</td>\n",
       "      <td>[2800593, 1958684, 2155129, 1958684, 2376286, ...</td>\n",
       "      <td>NaN</td>\n",
       "      <td>[2800593, 1958684, 2155129, 1958684, 2376286, ...</td>\n",
       "    </tr>\n",
       "    <tr>\n",
       "      <th>7</th>\n",
       "      <td>362</td>\n",
       "      <td>253</td>\n",
       "      <td>[1804380, 378873, 1712278, 2606976, 2179926, 2...</td>\n",
       "      <td>[1704736, 2853312, 2836886, 2560201, 2806018, ...</td>\n",
       "      <td>[1804380, 378873, 1712278, 2606976, 2179926, 2...</td>\n",
       "    </tr>\n",
       "    <tr>\n",
       "      <th>8</th>\n",
       "      <td>362</td>\n",
       "      <td>269</td>\n",
       "      <td>[2776180, 1584381, 1275454, 2776180, 1584381, ...</td>\n",
       "      <td>[1704736, 2836886, 2560201, 2598159, 2806018, ...</td>\n",
       "      <td>[2776180, 1584381, 1275454, 2776180, 1584381, ...</td>\n",
       "    </tr>\n",
       "    <tr>\n",
       "      <th>9</th>\n",
       "      <td>362</td>\n",
       "      <td>284</td>\n",
       "      <td>[2844620, 2521057, 2836886, 2560201, 1704736, ...</td>\n",
       "      <td>[2836886, 2560201, 1704736, 2806018, 2598159, ...</td>\n",
       "      <td>[2844620, 2836886, 2560201, 1704736, 2806018, ...</td>\n",
       "    </tr>\n",
       "    <tr>\n",
       "      <th>10</th>\n",
       "      <td>362</td>\n",
       "      <td>287</td>\n",
       "      <td>[1704736, 2598159, 333573, 2853312, 2560201, 2...</td>\n",
       "      <td>NaN</td>\n",
       "      <td>[1704736, 2598159, 333573, 2853312, 2560201, 2...</td>\n",
       "    </tr>\n",
       "    <tr>\n",
       "      <th>11</th>\n",
       "      <td>362</td>\n",
       "      <td>336</td>\n",
       "      <td>[63251, 2365892, 2581704, 2270327, 846402, 238...</td>\n",
       "      <td>[1704736, 2560201, 2806018, 2836886, 2853312, ...</td>\n",
       "      <td>[63251, 2365892, 2581704, 2270327, 846402, 238...</td>\n",
       "    </tr>\n",
       "    <tr>\n",
       "      <th>12</th>\n",
       "      <td>362</td>\n",
       "      <td>344</td>\n",
       "      <td>[2500859, 1536662, 2714315, 1235085, 2155129, ...</td>\n",
       "      <td>[2560201, 2836886, 1704736, 2806018, 2757104, ...</td>\n",
       "      <td>[2500859, 1536662, 2714315, 1235085, 2155129, ...</td>\n",
       "    </tr>\n",
       "    <tr>\n",
       "      <th>13</th>\n",
       "      <td>362</td>\n",
       "      <td>357</td>\n",
       "      <td>[1979138, 1653741, 1658559, 595027, 2833119, 2...</td>\n",
       "      <td>[2560201, 2836886, 1704736, 2806018, 2757104, ...</td>\n",
       "      <td>[1979138, 1653741, 1658559, 595027, 2833119, 2...</td>\n",
       "    </tr>\n",
       "    <tr>\n",
       "      <th>14</th>\n",
       "      <td>362</td>\n",
       "      <td>358</td>\n",
       "      <td>[2648967, 2648967, 2648967, 1516103, 1516103, ...</td>\n",
       "      <td>[2560201, 1704736, 2836886, 2806018, 2598159, ...</td>\n",
       "      <td>[2648967, 2648967, 2648967, 1516103, 1516103, ...</td>\n",
       "    </tr>\n",
       "    <tr>\n",
       "      <th>15</th>\n",
       "      <td>362</td>\n",
       "      <td>395</td>\n",
       "      <td>[2059105, 1539821, 2766753, 2419040, 2059105, ...</td>\n",
       "      <td>[2560201, 2836886, 1704736, 2806018, 2757104, ...</td>\n",
       "      <td>[2059105, 1539821, 2766753, 2419040, 2059105, ...</td>\n",
       "    </tr>\n",
       "    <tr>\n",
       "      <th>16</th>\n",
       "      <td>362</td>\n",
       "      <td>426</td>\n",
       "      <td>[2813985, 1704736, 2560201, 2836886, 2806018, ...</td>\n",
       "      <td>[1704736, 2560201, 2836886, 2806018, 2757104, ...</td>\n",
       "      <td>[2813985, 1704736, 2560201, 2836886, 2806018, ...</td>\n",
       "    </tr>\n",
       "    <tr>\n",
       "      <th>17</th>\n",
       "      <td>362</td>\n",
       "      <td>523</td>\n",
       "      <td>[2624233, 1136253, 1964846, 1774084, 592791, 2...</td>\n",
       "      <td>[1704736, 2853312, 2836886, 2560201, 2806018, ...</td>\n",
       "      <td>[2624233, 1136253, 1964846, 1774084, 592791, 2...</td>\n",
       "    </tr>\n",
       "    <tr>\n",
       "      <th>18</th>\n",
       "      <td>362</td>\n",
       "      <td>562</td>\n",
       "      <td>[717837, 1714622, 341277, 2254939, 2853312, 28...</td>\n",
       "      <td>[2836886, 2560201, 2598159, 2806018, 1704736, ...</td>\n",
       "      <td>[717837, 1714622, 341277, 2254939, 2853312, 28...</td>\n",
       "    </tr>\n",
       "    <tr>\n",
       "      <th>19</th>\n",
       "      <td>362</td>\n",
       "      <td>571</td>\n",
       "      <td>[1704736, 2598159, 333573, 2853312, 2560201, 2...</td>\n",
       "      <td>NaN</td>\n",
       "      <td>[1704736, 2598159, 333573, 2853312, 2560201, 2...</td>\n",
       "    </tr>\n",
       "    <tr>\n",
       "      <th>20</th>\n",
       "      <td>362</td>\n",
       "      <td>572</td>\n",
       "      <td>[1704736, 2598159, 2853312, 333573, 2560201, 2...</td>\n",
       "      <td>NaN</td>\n",
       "      <td>[1704736, 2598159, 2853312, 333573, 2560201, 2...</td>\n",
       "    </tr>\n",
       "    <tr>\n",
       "      <th>21</th>\n",
       "      <td>362</td>\n",
       "      <td>573</td>\n",
       "      <td>[1346848, 2158397, 202107, 997867, 1925751, 27...</td>\n",
       "      <td>[1704736, 2853312, 2836886, 2560201, 2806018, ...</td>\n",
       "      <td>[1346848, 2158397, 202107, 997867, 1925751, 27...</td>\n",
       "    </tr>\n",
       "    <tr>\n",
       "      <th>22</th>\n",
       "      <td>362</td>\n",
       "      <td>639</td>\n",
       "      <td>[2806018, 2853312, 1704736, 2598159, 2560201, ...</td>\n",
       "      <td>[2853312, 1704736, 2598159, 2560201, 2836886, ...</td>\n",
       "      <td>[2806018, 2853312, 1704736, 2598159, 2560201, ...</td>\n",
       "    </tr>\n",
       "    <tr>\n",
       "      <th>23</th>\n",
       "      <td>362</td>\n",
       "      <td>655</td>\n",
       "      <td>[1704736, 2853312, 2598159, 333573, 2836886, 2...</td>\n",
       "      <td>NaN</td>\n",
       "      <td>[1704736, 2853312, 2598159, 333573, 2836886, 2...</td>\n",
       "    </tr>\n",
       "    <tr>\n",
       "      <th>24</th>\n",
       "      <td>362</td>\n",
       "      <td>677</td>\n",
       "      <td>[2857651, 2869883, 2683382, 2562902, 1364148, ...</td>\n",
       "      <td>[1704736, 2836886, 2560201, 2806018, 2853312, ...</td>\n",
       "      <td>[2857651, 2869883, 2683382, 1704736, 2836886, ...</td>\n",
       "    </tr>\n",
       "    <tr>\n",
       "      <th>25</th>\n",
       "      <td>362</td>\n",
       "      <td>754</td>\n",
       "      <td>[2007251, 1704736, 2560201, 2836886, 2806018, ...</td>\n",
       "      <td>[1704736, 2560201, 2836886, 2806018, 2598159, ...</td>\n",
       "      <td>[2007251, 1704736, 2560201, 2836886, 2806018, ...</td>\n",
       "    </tr>\n",
       "    <tr>\n",
       "      <th>26</th>\n",
       "      <td>362</td>\n",
       "      <td>915</td>\n",
       "      <td>[1331412, 1381385, 2166487, 2371296, 2026884, ...</td>\n",
       "      <td>NaN</td>\n",
       "      <td>[1331412, 1381385, 2166487, 2371296, 2026884, ...</td>\n",
       "    </tr>\n",
       "    <tr>\n",
       "      <th>27</th>\n",
       "      <td>362</td>\n",
       "      <td>937</td>\n",
       "      <td>[2728759, 2034634, 103148, 2522986, 2800593, 2...</td>\n",
       "      <td>[1704736, 2560201, 2806018, 2836886, 2853312, ...</td>\n",
       "      <td>[2728759, 2034634, 103148, 2522986, 2800593, 2...</td>\n",
       "    </tr>\n",
       "    <tr>\n",
       "      <th>28</th>\n",
       "      <td>362</td>\n",
       "      <td>942</td>\n",
       "      <td>[2817268, 333573, 1639385, 2767251, 2022549, 2...</td>\n",
       "      <td>[2836886, 1704736, 2560201, 2806018, 2853312, ...</td>\n",
       "      <td>[2817268, 333573, 1639385, 2767251, 2022549, 2...</td>\n",
       "    </tr>\n",
       "    <tr>\n",
       "      <th>29</th>\n",
       "      <td>362</td>\n",
       "      <td>960</td>\n",
       "      <td>[2647285, 1470393, 1470393, 2832711, 1336027, ...</td>\n",
       "      <td>NaN</td>\n",
       "      <td>[2647285, 1470393, 1470393, 2832711, 1336027, ...</td>\n",
       "    </tr>\n",
       "    <tr>\n",
       "      <th>...</th>\n",
       "      <td>...</td>\n",
       "      <td>...</td>\n",
       "      <td>...</td>\n",
       "      <td>...</td>\n",
       "      <td>...</td>\n",
       "    </tr>\n",
       "    <tr>\n",
       "      <th>10477</th>\n",
       "      <td>888</td>\n",
       "      <td>14542</td>\n",
       "      <td>[2613103, 2675160, 2186874, 2613710, 2775597, ...</td>\n",
       "      <td>NaN</td>\n",
       "      <td>[2613103, 2675160, 2186874, 2613710, 2775597, ...</td>\n",
       "    </tr>\n",
       "    <tr>\n",
       "      <th>10478</th>\n",
       "      <td>888</td>\n",
       "      <td>14557</td>\n",
       "      <td>[1774993, 1774993, 2531605, 2799292, 2754211, ...</td>\n",
       "      <td>[2808064, 2808047, 2808111, 2254453, 2827584, ...</td>\n",
       "      <td>[1774993, 1774993, 2531605, 2799292, 2808064, ...</td>\n",
       "    </tr>\n",
       "    <tr>\n",
       "      <th>10479</th>\n",
       "      <td>888</td>\n",
       "      <td>14575</td>\n",
       "      <td>[2579626, 2645727, 2494345, 1761217, 2378405, ...</td>\n",
       "      <td>[2808064, 2808047, 2808111, 2254453, 2827584, ...</td>\n",
       "      <td>[2579626, 2645727, 2494345, 1761217, 2378405, ...</td>\n",
       "    </tr>\n",
       "    <tr>\n",
       "      <th>10480</th>\n",
       "      <td>888</td>\n",
       "      <td>14580</td>\n",
       "      <td>[2808064, 2827584, 2827386, 2254453, 2808111, ...</td>\n",
       "      <td>NaN</td>\n",
       "      <td>[2808064, 2827584, 2827386, 2254453, 2808111, ...</td>\n",
       "    </tr>\n",
       "    <tr>\n",
       "      <th>10481</th>\n",
       "      <td>888</td>\n",
       "      <td>14586</td>\n",
       "      <td>[2813299, 2766888, 2817057, 2537913, 2745109, ...</td>\n",
       "      <td>NaN</td>\n",
       "      <td>[2813299, 2766888, 2817057, 2537913, 2745109, ...</td>\n",
       "    </tr>\n",
       "    <tr>\n",
       "      <th>10482</th>\n",
       "      <td>888</td>\n",
       "      <td>14592</td>\n",
       "      <td>[2808064, 2827584, 2827386, 2254453, 2808111, ...</td>\n",
       "      <td>NaN</td>\n",
       "      <td>[2808064, 2827584, 2827386, 2254453, 2808111, ...</td>\n",
       "    </tr>\n",
       "    <tr>\n",
       "      <th>10483</th>\n",
       "      <td>888</td>\n",
       "      <td>14597</td>\n",
       "      <td>[195769, 2445034, 2850929, 2673104, 2323645, 1...</td>\n",
       "      <td>NaN</td>\n",
       "      <td>[195769, 2445034, 2850929, 2673104, 2323645, 1...</td>\n",
       "    </tr>\n",
       "    <tr>\n",
       "      <th>10484</th>\n",
       "      <td>888</td>\n",
       "      <td>14626</td>\n",
       "      <td>[2861757, 2793404, 2387583, 2830449, 2186346, ...</td>\n",
       "      <td>[2808064, 2808047, 2808111, 2254453, 2827584, ...</td>\n",
       "      <td>[2861757, 2793404, 2387583, 2830449, 2186346, ...</td>\n",
       "    </tr>\n",
       "    <tr>\n",
       "      <th>10485</th>\n",
       "      <td>888</td>\n",
       "      <td>14631</td>\n",
       "      <td>[868257, 2680094, 2735740, 2297308, 2301293, 2...</td>\n",
       "      <td>NaN</td>\n",
       "      <td>[868257, 2680094, 2735740, 2297308, 2301293, 2...</td>\n",
       "    </tr>\n",
       "    <tr>\n",
       "      <th>10486</th>\n",
       "      <td>888</td>\n",
       "      <td>14645</td>\n",
       "      <td>[2344622, 1292992, 2725139, 2766542, 2186124, ...</td>\n",
       "      <td>[2827584, 2827386, 2808064, 2254453, 2808111, ...</td>\n",
       "      <td>[2344622, 1292992, 2725139, 2766542, 2186124, ...</td>\n",
       "    </tr>\n",
       "    <tr>\n",
       "      <th>10487</th>\n",
       "      <td>888</td>\n",
       "      <td>14656</td>\n",
       "      <td>[2808308, 2821097, 2680903, 2793578, 2440593, ...</td>\n",
       "      <td>[2808064, 2808047, 2808111, 2254453, 2827584, ...</td>\n",
       "      <td>[2808308, 2821097, 2680903, 2793578, 2440593, ...</td>\n",
       "    </tr>\n",
       "    <tr>\n",
       "      <th>10488</th>\n",
       "      <td>888</td>\n",
       "      <td>14657</td>\n",
       "      <td>[2147242, 2147242, 2634058, 2634058, 2448596, ...</td>\n",
       "      <td>NaN</td>\n",
       "      <td>[2147242, 2147242, 2634058, 2634058, 2448596, ...</td>\n",
       "    </tr>\n",
       "    <tr>\n",
       "      <th>10489</th>\n",
       "      <td>888</td>\n",
       "      <td>14662</td>\n",
       "      <td>[2808064, 2827584, 2827386, 2254453, 2808111, ...</td>\n",
       "      <td>NaN</td>\n",
       "      <td>[2808064, 2827584, 2827386, 2254453, 2808111, ...</td>\n",
       "    </tr>\n",
       "    <tr>\n",
       "      <th>10490</th>\n",
       "      <td>888</td>\n",
       "      <td>14689</td>\n",
       "      <td>[1809431, 2174885, 2288567, 2762073, 2288567, ...</td>\n",
       "      <td>[2808064, 2808047, 2254453, 2827386, 2827584, ...</td>\n",
       "      <td>[1809431, 2174885, 2288567, 2762073, 2288567, ...</td>\n",
       "    </tr>\n",
       "    <tr>\n",
       "      <th>10491</th>\n",
       "      <td>888</td>\n",
       "      <td>14728</td>\n",
       "      <td>[2808064, 2827584, 2827386, 2254453, 2808111, ...</td>\n",
       "      <td>NaN</td>\n",
       "      <td>[2808064, 2827584, 2827386, 2254453, 2808111, ...</td>\n",
       "    </tr>\n",
       "    <tr>\n",
       "      <th>10492</th>\n",
       "      <td>888</td>\n",
       "      <td>14736</td>\n",
       "      <td>[2808064, 2827584, 2827386, 2254453, 2808111, ...</td>\n",
       "      <td>NaN</td>\n",
       "      <td>[2808064, 2827584, 2827386, 2254453, 2808111, ...</td>\n",
       "    </tr>\n",
       "    <tr>\n",
       "      <th>10493</th>\n",
       "      <td>888</td>\n",
       "      <td>14751</td>\n",
       "      <td>[2805312, 1963751, 2124230, 2663307, 2514959, ...</td>\n",
       "      <td>[2808064, 2808047, 2808111, 2254453, 2827584, ...</td>\n",
       "      <td>[2805312, 1963751, 2124230, 2663307, 2514959, ...</td>\n",
       "    </tr>\n",
       "    <tr>\n",
       "      <th>10494</th>\n",
       "      <td>888</td>\n",
       "      <td>14760</td>\n",
       "      <td>[2678183, 424697, 1176075, 1603629, 1176075, 2...</td>\n",
       "      <td>[2808064, 2808047, 2808111, 2254453, 2827584, ...</td>\n",
       "      <td>[2678183, 424697, 1176075, 1603629, 1176075, 2...</td>\n",
       "    </tr>\n",
       "    <tr>\n",
       "      <th>10495</th>\n",
       "      <td>888</td>\n",
       "      <td>14814</td>\n",
       "      <td>[1573254, 454322, 2808064, 2808047, 2808111, 2...</td>\n",
       "      <td>[2808064, 2808047, 2808111, 2254453, 2827584, ...</td>\n",
       "      <td>[1573254, 454322, 2808064, 2808047, 2808111, 2...</td>\n",
       "    </tr>\n",
       "    <tr>\n",
       "      <th>10496</th>\n",
       "      <td>888</td>\n",
       "      <td>14817</td>\n",
       "      <td>[2808064, 2827584, 2827386, 2254453, 2808111, ...</td>\n",
       "      <td>NaN</td>\n",
       "      <td>[2808064, 2827584, 2827386, 2254453, 2808111, ...</td>\n",
       "    </tr>\n",
       "    <tr>\n",
       "      <th>10497</th>\n",
       "      <td>888</td>\n",
       "      <td>14818</td>\n",
       "      <td>[2808064, 2827584, 2827386, 2254453, 2808111, ...</td>\n",
       "      <td>NaN</td>\n",
       "      <td>[2808064, 2827584, 2827386, 2254453, 2808111, ...</td>\n",
       "    </tr>\n",
       "    <tr>\n",
       "      <th>10498</th>\n",
       "      <td>888</td>\n",
       "      <td>14828</td>\n",
       "      <td>[2474539, 579418, 2773991, 1173701, 932500, 94...</td>\n",
       "      <td>[2808064, 2808047, 2808111, 2254453, 2827584, ...</td>\n",
       "      <td>[2474539, 579418, 2773991, 1173701, 932500, 94...</td>\n",
       "    </tr>\n",
       "    <tr>\n",
       "      <th>10499</th>\n",
       "      <td>888</td>\n",
       "      <td>14831</td>\n",
       "      <td>[2363893, 2680094, 926495, 926495, 2227612, 28...</td>\n",
       "      <td>NaN</td>\n",
       "      <td>[2363893, 2680094, 926495, 926495, 2227612, 28...</td>\n",
       "    </tr>\n",
       "    <tr>\n",
       "      <th>10500</th>\n",
       "      <td>888</td>\n",
       "      <td>14850</td>\n",
       "      <td>[2851609, 2851609, 2785274, 2786087, 1615059, ...</td>\n",
       "      <td>[2808064, 2808047, 2808111, 2254453, 2827386, ...</td>\n",
       "      <td>[2851609, 2851609, 2785274, 2786087, 1615059, ...</td>\n",
       "    </tr>\n",
       "    <tr>\n",
       "      <th>10501</th>\n",
       "      <td>888</td>\n",
       "      <td>14873</td>\n",
       "      <td>[2808064, 2827584, 2827386, 2254453, 2808111, ...</td>\n",
       "      <td>NaN</td>\n",
       "      <td>[2808064, 2827584, 2827386, 2254453, 2808111, ...</td>\n",
       "    </tr>\n",
       "    <tr>\n",
       "      <th>10502</th>\n",
       "      <td>888</td>\n",
       "      <td>14928</td>\n",
       "      <td>[1897754, 2427296, 2799018, 2840653, 2720400, ...</td>\n",
       "      <td>NaN</td>\n",
       "      <td>[1897754, 2427296, 2799018, 2840653, 2720400, ...</td>\n",
       "    </tr>\n",
       "    <tr>\n",
       "      <th>10503</th>\n",
       "      <td>888</td>\n",
       "      <td>14965</td>\n",
       "      <td>[1980241, 2533332, 2431912, 2482226, 1929653, ...</td>\n",
       "      <td>NaN</td>\n",
       "      <td>[1980241, 2533332, 2431912, 2482226, 1929653, ...</td>\n",
       "    </tr>\n",
       "    <tr>\n",
       "      <th>10504</th>\n",
       "      <td>888</td>\n",
       "      <td>14969</td>\n",
       "      <td>[2316472, 2316472, 2155999, 1546624, 1019648, ...</td>\n",
       "      <td>[2808064, 2808047, 2808111, 2827584, 2254453, ...</td>\n",
       "      <td>[2316472, 2316472, 2155999, 1546624, 1019648, ...</td>\n",
       "    </tr>\n",
       "    <tr>\n",
       "      <th>10505</th>\n",
       "      <td>888</td>\n",
       "      <td>15021</td>\n",
       "      <td>[1399494, 1399494, 1399494, 2527821, 2504388, ...</td>\n",
       "      <td>[2808064, 2808047, 2808111, 2254453, 2827584, ...</td>\n",
       "      <td>[1399494, 1399494, 1399494, 2527821, 2504388, ...</td>\n",
       "    </tr>\n",
       "    <tr>\n",
       "      <th>10506</th>\n",
       "      <td>888</td>\n",
       "      <td>15063</td>\n",
       "      <td>[2855132, 2855987, 733796, 2640083, 2864104, 2...</td>\n",
       "      <td>[2808064, 2808047, 2808111, 2254453, 2827584, ...</td>\n",
       "      <td>[2855132, 2855987, 733796, 2640083, 2864104, 2...</td>\n",
       "    </tr>\n",
       "  </tbody>\n",
       "</table>\n",
       "<p>10507 rows × 5 columns</p>\n",
       "</div>"
      ],
      "text/plain": [
       "       category_id  user_id  \\\n",
       "0              362       32   \n",
       "1              362       42   \n",
       "2              362       66   \n",
       "3              362      182   \n",
       "4              362      191   \n",
       "5              362      196   \n",
       "6              362      205   \n",
       "7              362      253   \n",
       "8              362      269   \n",
       "9              362      284   \n",
       "10             362      287   \n",
       "11             362      336   \n",
       "12             362      344   \n",
       "13             362      357   \n",
       "14             362      358   \n",
       "15             362      395   \n",
       "16             362      426   \n",
       "17             362      523   \n",
       "18             362      562   \n",
       "19             362      571   \n",
       "20             362      572   \n",
       "21             362      573   \n",
       "22             362      639   \n",
       "23             362      655   \n",
       "24             362      677   \n",
       "25             362      754   \n",
       "26             362      915   \n",
       "27             362      937   \n",
       "28             362      942   \n",
       "29             362      960   \n",
       "...            ...      ...   \n",
       "10477          888    14542   \n",
       "10478          888    14557   \n",
       "10479          888    14575   \n",
       "10480          888    14580   \n",
       "10481          888    14586   \n",
       "10482          888    14592   \n",
       "10483          888    14597   \n",
       "10484          888    14626   \n",
       "10485          888    14631   \n",
       "10486          888    14645   \n",
       "10487          888    14656   \n",
       "10488          888    14657   \n",
       "10489          888    14662   \n",
       "10490          888    14689   \n",
       "10491          888    14728   \n",
       "10492          888    14736   \n",
       "10493          888    14751   \n",
       "10494          888    14760   \n",
       "10495          888    14814   \n",
       "10496          888    14817   \n",
       "10497          888    14818   \n",
       "10498          888    14828   \n",
       "10499          888    14831   \n",
       "10500          888    14850   \n",
       "10501          888    14873   \n",
       "10502          888    14928   \n",
       "10503          888    14965   \n",
       "10504          888    14969   \n",
       "10505          888    15021   \n",
       "10506          888    15063   \n",
       "\n",
       "                                                   ads_x  \\\n",
       "0      [2155129, 1151273, 1917466, 430569, 2451503, 1...   \n",
       "1      [2684942, 1642256, 2230578, 2023961, 2680584, ...   \n",
       "2      [1635665, 1635665, 2833390, 2833390, 2833390, ...   \n",
       "3      [2297932, 1524344, 219720, 2836886, 2560201, 1...   \n",
       "4      [1937355, 1704736, 2806363, 2377472, 5073, 384...   \n",
       "5      [2441605, 1101916, 2617331, 1509216, 563696, 3...   \n",
       "6      [2800593, 1958684, 2155129, 1958684, 2376286, ...   \n",
       "7      [1804380, 378873, 1712278, 2606976, 2179926, 2...   \n",
       "8      [2776180, 1584381, 1275454, 2776180, 1584381, ...   \n",
       "9      [2844620, 2521057, 2836886, 2560201, 1704736, ...   \n",
       "10     [1704736, 2598159, 333573, 2853312, 2560201, 2...   \n",
       "11     [63251, 2365892, 2581704, 2270327, 846402, 238...   \n",
       "12     [2500859, 1536662, 2714315, 1235085, 2155129, ...   \n",
       "13     [1979138, 1653741, 1658559, 595027, 2833119, 2...   \n",
       "14     [2648967, 2648967, 2648967, 1516103, 1516103, ...   \n",
       "15     [2059105, 1539821, 2766753, 2419040, 2059105, ...   \n",
       "16     [2813985, 1704736, 2560201, 2836886, 2806018, ...   \n",
       "17     [2624233, 1136253, 1964846, 1774084, 592791, 2...   \n",
       "18     [717837, 1714622, 341277, 2254939, 2853312, 28...   \n",
       "19     [1704736, 2598159, 333573, 2853312, 2560201, 2...   \n",
       "20     [1704736, 2598159, 2853312, 333573, 2560201, 2...   \n",
       "21     [1346848, 2158397, 202107, 997867, 1925751, 27...   \n",
       "22     [2806018, 2853312, 1704736, 2598159, 2560201, ...   \n",
       "23     [1704736, 2853312, 2598159, 333573, 2836886, 2...   \n",
       "24     [2857651, 2869883, 2683382, 2562902, 1364148, ...   \n",
       "25     [2007251, 1704736, 2560201, 2836886, 2806018, ...   \n",
       "26     [1331412, 1381385, 2166487, 2371296, 2026884, ...   \n",
       "27     [2728759, 2034634, 103148, 2522986, 2800593, 2...   \n",
       "28     [2817268, 333573, 1639385, 2767251, 2022549, 2...   \n",
       "29     [2647285, 1470393, 1470393, 2832711, 1336027, ...   \n",
       "...                                                  ...   \n",
       "10477  [2613103, 2675160, 2186874, 2613710, 2775597, ...   \n",
       "10478  [1774993, 1774993, 2531605, 2799292, 2754211, ...   \n",
       "10479  [2579626, 2645727, 2494345, 1761217, 2378405, ...   \n",
       "10480  [2808064, 2827584, 2827386, 2254453, 2808111, ...   \n",
       "10481  [2813299, 2766888, 2817057, 2537913, 2745109, ...   \n",
       "10482  [2808064, 2827584, 2827386, 2254453, 2808111, ...   \n",
       "10483  [195769, 2445034, 2850929, 2673104, 2323645, 1...   \n",
       "10484  [2861757, 2793404, 2387583, 2830449, 2186346, ...   \n",
       "10485  [868257, 2680094, 2735740, 2297308, 2301293, 2...   \n",
       "10486  [2344622, 1292992, 2725139, 2766542, 2186124, ...   \n",
       "10487  [2808308, 2821097, 2680903, 2793578, 2440593, ...   \n",
       "10488  [2147242, 2147242, 2634058, 2634058, 2448596, ...   \n",
       "10489  [2808064, 2827584, 2827386, 2254453, 2808111, ...   \n",
       "10490  [1809431, 2174885, 2288567, 2762073, 2288567, ...   \n",
       "10491  [2808064, 2827584, 2827386, 2254453, 2808111, ...   \n",
       "10492  [2808064, 2827584, 2827386, 2254453, 2808111, ...   \n",
       "10493  [2805312, 1963751, 2124230, 2663307, 2514959, ...   \n",
       "10494  [2678183, 424697, 1176075, 1603629, 1176075, 2...   \n",
       "10495  [1573254, 454322, 2808064, 2808047, 2808111, 2...   \n",
       "10496  [2808064, 2827584, 2827386, 2254453, 2808111, ...   \n",
       "10497  [2808064, 2827584, 2827386, 2254453, 2808111, ...   \n",
       "10498  [2474539, 579418, 2773991, 1173701, 932500, 94...   \n",
       "10499  [2363893, 2680094, 926495, 926495, 2227612, 28...   \n",
       "10500  [2851609, 2851609, 2785274, 2786087, 1615059, ...   \n",
       "10501  [2808064, 2827584, 2827386, 2254453, 2808111, ...   \n",
       "10502  [1897754, 2427296, 2799018, 2840653, 2720400, ...   \n",
       "10503  [1980241, 2533332, 2431912, 2482226, 1929653, ...   \n",
       "10504  [2316472, 2316472, 2155999, 1546624, 1019648, ...   \n",
       "10505  [1399494, 1399494, 1399494, 2527821, 2504388, ...   \n",
       "10506  [2855132, 2855987, 733796, 2640083, 2864104, 2...   \n",
       "\n",
       "                                                   ads_y  \\\n",
       "0                                                    NaN   \n",
       "1                                                    NaN   \n",
       "2      [2853312, 1704736, 2598159, 2836886, 2560201, ...   \n",
       "3      [2836886, 2560201, 1704736, 2757104, 2806018, ...   \n",
       "4      [2853312, 2836886, 2598159, 2560201, 2806018, ...   \n",
       "5      [2853312, 1704736, 2598159, 2836886, 2560201, ...   \n",
       "6                                                    NaN   \n",
       "7      [1704736, 2853312, 2836886, 2560201, 2806018, ...   \n",
       "8      [1704736, 2836886, 2560201, 2598159, 2806018, ...   \n",
       "9      [2836886, 2560201, 1704736, 2806018, 2598159, ...   \n",
       "10                                                   NaN   \n",
       "11     [1704736, 2560201, 2806018, 2836886, 2853312, ...   \n",
       "12     [2560201, 2836886, 1704736, 2806018, 2757104, ...   \n",
       "13     [2560201, 2836886, 1704736, 2806018, 2757104, ...   \n",
       "14     [2560201, 1704736, 2836886, 2806018, 2598159, ...   \n",
       "15     [2560201, 2836886, 1704736, 2806018, 2757104, ...   \n",
       "16     [1704736, 2560201, 2836886, 2806018, 2757104, ...   \n",
       "17     [1704736, 2853312, 2836886, 2560201, 2806018, ...   \n",
       "18     [2836886, 2560201, 2598159, 2806018, 1704736, ...   \n",
       "19                                                   NaN   \n",
       "20                                                   NaN   \n",
       "21     [1704736, 2853312, 2836886, 2560201, 2806018, ...   \n",
       "22     [2853312, 1704736, 2598159, 2560201, 2836886, ...   \n",
       "23                                                   NaN   \n",
       "24     [1704736, 2836886, 2560201, 2806018, 2853312, ...   \n",
       "25     [1704736, 2560201, 2836886, 2806018, 2598159, ...   \n",
       "26                                                   NaN   \n",
       "27     [1704736, 2560201, 2806018, 2836886, 2853312, ...   \n",
       "28     [2836886, 1704736, 2560201, 2806018, 2853312, ...   \n",
       "29                                                   NaN   \n",
       "...                                                  ...   \n",
       "10477                                                NaN   \n",
       "10478  [2808064, 2808047, 2808111, 2254453, 2827584, ...   \n",
       "10479  [2808064, 2808047, 2808111, 2254453, 2827584, ...   \n",
       "10480                                                NaN   \n",
       "10481                                                NaN   \n",
       "10482                                                NaN   \n",
       "10483                                                NaN   \n",
       "10484  [2808064, 2808047, 2808111, 2254453, 2827584, ...   \n",
       "10485                                                NaN   \n",
       "10486  [2827584, 2827386, 2808064, 2254453, 2808111, ...   \n",
       "10487  [2808064, 2808047, 2808111, 2254453, 2827584, ...   \n",
       "10488                                                NaN   \n",
       "10489                                                NaN   \n",
       "10490  [2808064, 2808047, 2254453, 2827386, 2827584, ...   \n",
       "10491                                                NaN   \n",
       "10492                                                NaN   \n",
       "10493  [2808064, 2808047, 2808111, 2254453, 2827584, ...   \n",
       "10494  [2808064, 2808047, 2808111, 2254453, 2827584, ...   \n",
       "10495  [2808064, 2808047, 2808111, 2254453, 2827584, ...   \n",
       "10496                                                NaN   \n",
       "10497                                                NaN   \n",
       "10498  [2808064, 2808047, 2808111, 2254453, 2827584, ...   \n",
       "10499                                                NaN   \n",
       "10500  [2808064, 2808047, 2808111, 2254453, 2827386, ...   \n",
       "10501                                                NaN   \n",
       "10502                                                NaN   \n",
       "10503                                                NaN   \n",
       "10504  [2808064, 2808047, 2808111, 2827584, 2254453, ...   \n",
       "10505  [2808064, 2808047, 2808111, 2254453, 2827584, ...   \n",
       "10506  [2808064, 2808047, 2808111, 2254453, 2827584, ...   \n",
       "\n",
       "                                                     ads  \n",
       "0      [2155129, 1151273, 1917466, 430569, 2451503, 1...  \n",
       "1      [2684942, 1642256, 2230578, 2023961, 2680584, ...  \n",
       "2      [1635665, 1635665, 2833390, 2833390, 2833390, ...  \n",
       "3      [2297932, 1524344, 2836886, 2560201, 1704736, ...  \n",
       "4      [1937355, 1704736, 2806363, 2377472, 5073, 384...  \n",
       "5      [2441605, 1101916, 2617331, 1509216, 563696, 2...  \n",
       "6      [2800593, 1958684, 2155129, 1958684, 2376286, ...  \n",
       "7      [1804380, 378873, 1712278, 2606976, 2179926, 2...  \n",
       "8      [2776180, 1584381, 1275454, 2776180, 1584381, ...  \n",
       "9      [2844620, 2836886, 2560201, 1704736, 2806018, ...  \n",
       "10     [1704736, 2598159, 333573, 2853312, 2560201, 2...  \n",
       "11     [63251, 2365892, 2581704, 2270327, 846402, 238...  \n",
       "12     [2500859, 1536662, 2714315, 1235085, 2155129, ...  \n",
       "13     [1979138, 1653741, 1658559, 595027, 2833119, 2...  \n",
       "14     [2648967, 2648967, 2648967, 1516103, 1516103, ...  \n",
       "15     [2059105, 1539821, 2766753, 2419040, 2059105, ...  \n",
       "16     [2813985, 1704736, 2560201, 2836886, 2806018, ...  \n",
       "17     [2624233, 1136253, 1964846, 1774084, 592791, 2...  \n",
       "18     [717837, 1714622, 341277, 2254939, 2853312, 28...  \n",
       "19     [1704736, 2598159, 333573, 2853312, 2560201, 2...  \n",
       "20     [1704736, 2598159, 2853312, 333573, 2560201, 2...  \n",
       "21     [1346848, 2158397, 202107, 997867, 1925751, 27...  \n",
       "22     [2806018, 2853312, 1704736, 2598159, 2560201, ...  \n",
       "23     [1704736, 2853312, 2598159, 333573, 2836886, 2...  \n",
       "24     [2857651, 2869883, 2683382, 1704736, 2836886, ...  \n",
       "25     [2007251, 1704736, 2560201, 2836886, 2806018, ...  \n",
       "26     [1331412, 1381385, 2166487, 2371296, 2026884, ...  \n",
       "27     [2728759, 2034634, 103148, 2522986, 2800593, 2...  \n",
       "28     [2817268, 333573, 1639385, 2767251, 2022549, 2...  \n",
       "29     [2647285, 1470393, 1470393, 2832711, 1336027, ...  \n",
       "...                                                  ...  \n",
       "10477  [2613103, 2675160, 2186874, 2613710, 2775597, ...  \n",
       "10478  [1774993, 1774993, 2531605, 2799292, 2808064, ...  \n",
       "10479  [2579626, 2645727, 2494345, 1761217, 2378405, ...  \n",
       "10480  [2808064, 2827584, 2827386, 2254453, 2808111, ...  \n",
       "10481  [2813299, 2766888, 2817057, 2537913, 2745109, ...  \n",
       "10482  [2808064, 2827584, 2827386, 2254453, 2808111, ...  \n",
       "10483  [195769, 2445034, 2850929, 2673104, 2323645, 1...  \n",
       "10484  [2861757, 2793404, 2387583, 2830449, 2186346, ...  \n",
       "10485  [868257, 2680094, 2735740, 2297308, 2301293, 2...  \n",
       "10486  [2344622, 1292992, 2725139, 2766542, 2186124, ...  \n",
       "10487  [2808308, 2821097, 2680903, 2793578, 2440593, ...  \n",
       "10488  [2147242, 2147242, 2634058, 2634058, 2448596, ...  \n",
       "10489  [2808064, 2827584, 2827386, 2254453, 2808111, ...  \n",
       "10490  [1809431, 2174885, 2288567, 2762073, 2288567, ...  \n",
       "10491  [2808064, 2827584, 2827386, 2254453, 2808111, ...  \n",
       "10492  [2808064, 2827584, 2827386, 2254453, 2808111, ...  \n",
       "10493  [2805312, 1963751, 2124230, 2663307, 2514959, ...  \n",
       "10494  [2678183, 424697, 1176075, 1603629, 1176075, 2...  \n",
       "10495  [1573254, 454322, 2808064, 2808047, 2808111, 2...  \n",
       "10496  [2808064, 2827584, 2827386, 2254453, 2808111, ...  \n",
       "10497  [2808064, 2827584, 2827386, 2254453, 2808111, ...  \n",
       "10498  [2474539, 579418, 2773991, 1173701, 932500, 94...  \n",
       "10499  [2363893, 2680094, 926495, 926495, 2227612, 28...  \n",
       "10500  [2851609, 2851609, 2785274, 2786087, 1615059, ...  \n",
       "10501  [2808064, 2827584, 2827386, 2254453, 2808111, ...  \n",
       "10502  [1897754, 2427296, 2799018, 2840653, 2720400, ...  \n",
       "10503  [1980241, 2533332, 2431912, 2482226, 1929653, ...  \n",
       "10504  [2316472, 2316472, 2155999, 1546624, 1019648, ...  \n",
       "10505  [1399494, 1399494, 1399494, 2527821, 2504388, ...  \n",
       "10506  [2855132, 2855987, 733796, 2640083, 2864104, 2...  \n",
       "\n",
       "[10507 rows x 5 columns]"
      ]
     },
     "execution_count": 610,
     "metadata": {},
     "output_type": "execute_result"
    }
   ],
   "source": [
    "last"
   ]
  },
  {
   "cell_type": "code",
   "execution_count": null,
   "metadata": {
    "collapsed": true
   },
   "outputs": [],
   "source": []
  },
  {
   "cell_type": "code",
   "execution_count": null,
   "metadata": {
    "collapsed": true
   },
   "outputs": [],
   "source": []
  },
  {
   "cell_type": "code",
   "execution_count": null,
   "metadata": {
    "collapsed": true
   },
   "outputs": [],
   "source": []
  }
 ],
 "metadata": {
  "kernelspec": {
   "display_name": "Python 2",
   "language": "python",
   "name": "python2"
  }
 },
 "nbformat": 4,
 "nbformat_minor": 2
}
